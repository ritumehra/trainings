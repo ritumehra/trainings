{
 "cells": [
  {
   "cell_type": "code",
   "execution_count": 7,
   "metadata": {},
   "outputs": [],
   "source": [
    "# ******************* CLASSES ********************"
   ]
  },
  {
   "cell_type": "code",
   "execution_count": null,
   "metadata": {},
   "outputs": [],
   "source": [
    "# Class Definition\n",
    "\n",
    "class MyTestClass:\n",
    "    '''This is a docstring. I have created a new class'''\n",
    "    pass"
   ]
  },
  {
   "cell_type": "code",
   "execution_count": 8,
   "metadata": {},
   "outputs": [
    {
     "name": "stdout",
     "output_type": "stream",
     "text": [
      "10\n",
      "<function MyTestClass.func at 0x0000000005383840>\n",
      "This is my second class\n"
     ]
    }
   ],
   "source": [
    "#Accessing Class Attributes using class name\n",
    "\n",
    "class MyTestClass:\n",
    "    \"This is my second class\"\n",
    "    a = 10\n",
    "    def func(self):\n",
    "        print('Hello')\n",
    "\n",
    "# Output: 10\n",
    "print(MyTestClass.a)\n",
    "\n",
    "# Output: <function MyClass.func at 0x0000000003079BF8>\n",
    "print(MyTestClass.func)\n",
    "\n",
    "# Output: 'This is my second class'\n",
    "print(MyTestClass.__doc__)"
   ]
  },
  {
   "cell_type": "code",
   "execution_count": null,
   "metadata": {},
   "outputs": [],
   "source": [
    "# ************* OBJECTS *************"
   ]
  },
  {
   "cell_type": "code",
   "execution_count": 5,
   "metadata": {},
   "outputs": [],
   "source": [
    "# Class Objects\n",
    "ob = MyTestClass()"
   ]
  },
  {
   "cell_type": "code",
   "execution_count": 6,
   "metadata": {},
   "outputs": [
    {
     "name": "stdout",
     "output_type": "stream",
     "text": [
      "<function MyClass.func at 0x0000000005383C80>\n",
      "<bound method MyClass.func of <__main__.MyClass object at 0x0000000005321EF0>>\n",
      "Hello\n"
     ]
    }
   ],
   "source": [
    "class MyClass:\n",
    "    \"This is my second class\"\n",
    "    a = 10\n",
    "    \n",
    "    # Self represents the Class Object itself\n",
    "    def func(self):\n",
    "        print('Hello')\n",
    "\n",
    "# create a new MyClass\n",
    "ob = MyClass()\n",
    "\n",
    "# CONCEPT\n",
    "# Any function object that is a class attribute defines a method for objects of that class.\n",
    "\n",
    "# Output: <function MyClass.func at 0x000000000335B0D0>\n",
    "print(MyClass.func)\n",
    "\n",
    "# Output: <bound method MyClass.func of <__main__.MyClass object at 0x000000000332DEF0>>\n",
    "print(ob.func)\n",
    "\n",
    "# Calling function func()\n",
    "# Output: Hello\n",
    "ob.func()"
   ]
  },
  {
   "cell_type": "code",
   "execution_count": 9,
   "metadata": {},
   "outputs": [],
   "source": [
    "# ************* Constructors and Destructors *************"
   ]
  },
  {
   "cell_type": "code",
   "execution_count": 2,
   "metadata": {},
   "outputs": [
    {
     "name": "stdout",
     "output_type": "stream",
     "text": [
      "__init__ Called\n",
      "Destructor Called\n",
      "getData Called\n",
      "2+3j\n",
      "__init__ Called\n",
      "Destructor Called\n",
      "(5, 0, 10)\n"
     ]
    }
   ],
   "source": [
    "class ComplexNumber:\n",
    "    def __init__(self,r = 0,i = 0):\n",
    "        print(\"__init__ Called\")\n",
    "        self.real = r\n",
    "        self.imag = i\n",
    "\n",
    "    def getData(self):\n",
    "        print(\"getData Called\")\n",
    "        print(\"{0}+{1}j\".format(self.real,self.imag))\n",
    "    \n",
    "    def __del__(self):\n",
    "        print(\"Destructor Called\")\n",
    "\n",
    "# Create a new ComplexNumber object\n",
    "c1 = ComplexNumber(2,3)\n",
    "\n",
    "# Call getData() function\n",
    "# Output: 2+3j\n",
    "c1.getData()\n",
    "\n",
    "# Create another ComplexNumber object and create a new attribute 'attr'\n",
    "\n",
    "# attributes of an object can be created on the fly.\n",
    "\n",
    "c2 = ComplexNumber(5)\n",
    "c2.attr = 10\n",
    "\n",
    "# Output: (5, 0, 10)\n",
    "print((c2.real, c2.imag, c2.attr))\n",
    "\n",
    "# but c1 object doesn't have attribute 'attr'\n",
    "# AttributeError: 'ComplexNumber' object has no attribute 'attr'\n",
    "# c1.attr"
   ]
  },
  {
   "cell_type": "code",
   "execution_count": 3,
   "metadata": {},
   "outputs": [
    {
     "name": "stdout",
     "output_type": "stream",
     "text": [
      "constructor\n",
      "destructor\n"
     ]
    }
   ],
   "source": [
    "class TestClass:\n",
    "    \n",
    "    def __init__(self):\n",
    "        print (\"constructor\")\n",
    "\n",
    "    def __del__(self):\n",
    "        print (\"destructor\")\n",
    "#         raise Exception(\"raise\")\n",
    "\n",
    "if __name__ == \"__main__\":\n",
    "    obj = TestClass()\n",
    "    del obj"
   ]
  },
  {
   "cell_type": "code",
   "execution_count": 4,
   "metadata": {},
   "outputs": [
    {
     "name": "stdout",
     "output_type": "stream",
     "text": [
      "constructor\n",
      "static\n",
      "static\n",
      "destructor\n"
     ]
    }
   ],
   "source": [
    "\n",
    "class TestClass:\n",
    "\n",
    "    @staticmethod\n",
    "    def StaticMethod():\n",
    "        print (\"static\")\n",
    "    \n",
    "    def __init__(self):\n",
    "        print (\"constructor\")\n",
    "\n",
    "    def __del__(self):\n",
    "        print (\"destructor\")\n",
    "\n",
    "if __name__ == \"__main__\":\n",
    "    obj = TestClass()\n",
    "    # the following both are ok.\n",
    "    TestClass.StaticMethod() \n",
    "    obj.StaticMethod()\n",
    "    del obj"
   ]
  },
  {
   "cell_type": "code",
   "execution_count": null,
   "metadata": {},
   "outputs": [],
   "source": []
  },
  {
   "cell_type": "code",
   "execution_count": null,
   "metadata": {},
   "outputs": [],
   "source": []
  },
  {
   "cell_type": "code",
   "execution_count": null,
   "metadata": {},
   "outputs": [],
   "source": []
  },
  {
   "cell_type": "code",
   "execution_count": null,
   "metadata": {},
   "outputs": [],
   "source": []
  },
  {
   "cell_type": "code",
   "execution_count": null,
   "metadata": {},
   "outputs": [],
   "source": []
  }
 ],
 "metadata": {
  "kernelspec": {
   "display_name": "Python 3",
   "language": "python",
   "name": "python3"
  },
  "language_info": {
   "codemirror_mode": {
    "name": "ipython",
    "version": 3
   },
   "file_extension": ".py",
   "mimetype": "text/x-python",
   "name": "python",
   "nbconvert_exporter": "python",
   "pygments_lexer": "ipython3",
   "version": "3.7.5"
  }
 },
 "nbformat": 4,
 "nbformat_minor": 2
}
