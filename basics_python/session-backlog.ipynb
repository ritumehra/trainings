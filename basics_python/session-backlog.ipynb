{
 "cells": [
  {
   "cell_type": "code",
   "execution_count": 1,
   "metadata": {},
   "outputs": [],
   "source": [
    "#  multiline real time example : Done\n",
    "#  Example for Comments/ indentation/docstring/Constants : Done \n",
    "#  How to install a new library and use it : Done\n",
    "#  Range Function : Done\n",
    "#  Debugging in Pycharm\n",
    "\n",
    "# Assignment 1: Update the values of a list\n",
    "# Assignment 2: Create a list of list and just try and print it using the flowcontrol mechanism\n",
    "# Assignment 3: Turning Keys Into Values and Vice Versa\n",
    "# Assignment 4: Create a new dictionary using and existing one that will store only the data that satisfies a given condition.\n",
    "#               Input: {10:\"x\", 50: 'y', 200: 'u', 132: 'h', 1: 'j', 90: 'm', 345: 's'}\n",
    "#               Output: {200: 'u', 132: 'h', 90: 'm', 345: 's'}\n",
    "#               condition: key > 90\n",
    "# Assignment 5: Write a function that takes a dictionary as a parameter and converts the dictionary into two lists, \n",
    "#               one for keys and one for values and return the lists.\n",
    "# Assignment 6: \n",
    "\n",
    "\n",
    "#  How to use one python script func in another : Modules : This we will look into it gradually - Done\n",
    "#  pop for set: Done\n",
    "#  use cases of dictionary: Done"
   ]
  },
  {
   "cell_type": "code",
   "execution_count": 2,
   "metadata": {},
   "outputs": [
    {
     "name": "stdout",
     "output_type": "stream",
     "text": [
      "[1, 2, 3, 4, 5, 6, 7, 8, 9]\n"
     ]
    }
   ],
   "source": [
    "# Assignment 2\n",
    "\n",
    "ma = [[1, 2, 3], [4, 5], [6, 7, 8, 9]]\n",
    "\n",
    "new_ma = []\n",
    "\n",
    "for s in ma:\n",
    "    for val in s:\n",
    "        new_ma.append(val)\n",
    "\n",
    "print(new_ma)"
   ]
  },
  {
   "cell_type": "code",
   "execution_count": 3,
   "metadata": {},
   "outputs": [
    {
     "name": "stdout",
     "output_type": "stream",
     "text": [
      "['cat', 'dog', 'rabbit', ['lion', 'tiger']]\n",
      "printing list inside list\n",
      "cat\n",
      "dog\n",
      "rabbit\n",
      "lion\n",
      "tiger\n"
     ]
    }
   ],
   "source": [
    "a = ['cat', 'dog', 'rabbit']\n",
    "\n",
    "wild_animals = ['lion', 'tiger']\n",
    "\n",
    "a.append(wild_animals)\n",
    "\n",
    "print(a)\n",
    "\n",
    "print(\"printing list inside list\")\n",
    "for ani in a:\n",
    "    if isinstance(ani, list):\n",
    "        for itr in ani:\n",
    "            print(itr)\n",
    "    else:\n",
    "        print(ani)"
   ]
  },
  {
   "cell_type": "code",
   "execution_count": null,
   "metadata": {},
   "outputs": [],
   "source": []
  }
 ],
 "metadata": {
  "kernelspec": {
   "display_name": "Python 3",
   "language": "python",
   "name": "python3"
  },
  "language_info": {
   "codemirror_mode": {
    "name": "ipython",
    "version": 3
   },
   "file_extension": ".py",
   "mimetype": "text/x-python",
   "name": "python",
   "nbconvert_exporter": "python",
   "pygments_lexer": "ipython3",
   "version": "3.7.5"
  }
 },
 "nbformat": 4,
 "nbformat_minor": 4
}
