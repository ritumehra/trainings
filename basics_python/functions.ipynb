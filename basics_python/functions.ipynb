{
 "cells": [
  {
   "cell_type": "code",
   "execution_count": 2,
   "metadata": {},
   "outputs": [
    {
     "name": "stdout",
     "output_type": "stream",
     "text": [
      "Hello, Everyone. Good morning!\n",
      "def sum(num1,num2)::: 3\n",
      "2\n",
      "def sum(num1,num2)::: 3\n",
      "2\n",
      "def sum(num1,num2)::: 3\n",
      "4\n"
     ]
    }
   ],
   "source": [
    "# Create a function\n",
    "def greet(msg):\n",
    "    \"\"\"This function greets to\n",
    "    the person passed in as\n",
    "    parameter\"\"\"\n",
    "    \n",
    "    print(\"Hello, \" + msg + \". Good morning!\")\n",
    "\n",
    "#Function Call\n",
    "greet(\"Everyone\")\n",
    "\n",
    "# Return from a function\n",
    "def value(num):\n",
    "    \"\"\"\n",
    "    Doc String\n",
    "    \"\"\"\n",
    "    \n",
    "    # function call\n",
    "    val = sum(1, 2)\n",
    "\n",
    "    if num >= 0:\n",
    "        return num\n",
    "    else:\n",
    "        return -num\n",
    "\n",
    "ret_val = value(2)\n",
    "# Output: 2\n",
    "print(ret_val)\n",
    "\n",
    "# Output: 2\n",
    "print(value(2))\n",
    "\n",
    "# Output: 4\n",
    "print(value(-4))\n",
    "\n",
    "# val = sum(1,2)\n",
    "# print(val)\n",
    "\n"
   ]
  },
  {
   "cell_type": "code",
   "execution_count": 3,
   "metadata": {},
   "outputs": [
    {
     "name": "stdout",
     "output_type": "stream",
     "text": [
      "def sum(num1,num2)::: 3\n",
      "3\n"
     ]
    }
   ],
   "source": [
    "def sum(num1,num2):\n",
    "    total_sum = num1+num2\n",
    "    print(\"def sum(num1,num2):::\",total_sum)\n",
    "#     return total_sum\n",
    "\n",
    "\n",
    "# ret_val = sum(1,2)\n",
    "\n",
    "# print(ret_val)"
   ]
  },
  {
   "cell_type": "code",
   "execution_count": null,
   "metadata": {},
   "outputs": [],
   "source": []
  }
 ],
 "metadata": {
  "kernelspec": {
   "display_name": "Python 3",
   "language": "python",
   "name": "python3"
  },
  "language_info": {
   "codemirror_mode": {
    "name": "ipython",
    "version": 3
   },
   "file_extension": ".py",
   "mimetype": "text/x-python",
   "name": "python",
   "nbconvert_exporter": "python",
   "pygments_lexer": "ipython3",
   "version": "3.7.5"
  }
 },
 "nbformat": 4,
 "nbformat_minor": 4
}
