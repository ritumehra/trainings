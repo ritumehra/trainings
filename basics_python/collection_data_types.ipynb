{
 "cells": [
  {
   "cell_type": "code",
   "execution_count": 50,
   "metadata": {},
   "outputs": [
    {
     "name": "stdout",
     "output_type": "stream",
     "text": [
      "=========== Lists =============\n",
      "[100, 5, 10, 15, 20, 25, 30, 35, 40]\n",
      "a[2] =  10\n",
      "a[0:3] =  [100, 5, 10]\n",
      "a[5:] =  [25, 30, 35, 40]\n"
     ]
    }
   ],
   "source": [
    "print(\"=========== Lists =============\")\n",
    "\n",
    "a = [100,5,10,15,20,25,30,35,40]\n",
    "\n",
    "print(a)\n",
    "\n",
    "# a[2] = 10\n",
    "print(\"a[2] = \", a[2])\n",
    "\n",
    "# a[0:3] = [100, 5, 10]\n",
    "print(\"a[0:3] = \", a[0:3])\n",
    "\n",
    "# a[5:] = [25, 30, 35, 40]\n",
    "print(\"a[5:] = \", a[5:])\n",
    "\n"
   ]
  },
  {
   "cell_type": "code",
   "execution_count": 52,
   "metadata": {},
   "outputs": [
    {
     "name": "stdout",
     "output_type": "stream",
     "text": [
      "101\n",
      "6\n",
      "11\n",
      "16\n",
      "21\n",
      "26\n",
      "31\n",
      "36\n",
      "41\n",
      "Len: 9\n",
      "0\n",
      "1\n",
      "2\n",
      "3\n",
      "4\n",
      "5\n",
      "6\n",
      "7\n",
      "8\n",
      "[102, 7, 12, 17, 22, 27, 32, 37, 42]\n"
     ]
    }
   ],
   "source": [
    "# a = [101, 6, ....]\n",
    "for each in a:\n",
    "    print(each)\n",
    "    \n",
    "print(\"Len:\", len(a))\n",
    "\n",
    "# for i in 10:\n",
    "#     print(i)\n",
    "    \n",
    "for iter in range(len(a)): # len = 9\n",
    "    print(iter)\n",
    "#     updating a list\n",
    "    a[iter] = a[iter] + 1\n",
    "    \n",
    "print(a)"
   ]
  },
  {
   "cell_type": "code",
   "execution_count": 55,
   "metadata": {},
   "outputs": [
    {
     "name": "stdout",
     "output_type": "stream",
     "text": [
      "[102, 7, 12, 17, 22, 27, 32, 37, 42, 10001]\n",
      "Updated animals list:  ['cat', 'dog', 'rabbit', ['tiger', 'fox']]\n"
     ]
    }
   ],
   "source": [
    "#  add/append value to a list\n",
    "\n",
    "a.append(10001)\n",
    "print(a)\n",
    "\n",
    "# animals list\n",
    "animals = ['cat', 'dog', 'rabbit']\n",
    "\n",
    "# list of wild animals\n",
    "wild_animals = ['tiger', 'fox']\n",
    "\n",
    "# appending wild_animals list to the animals list\n",
    "animals.append(wild_animals)\n",
    "\n",
    "print('Updated animals list: ', animals)"
   ]
  },
  {
   "cell_type": "code",
   "execution_count": 56,
   "metadata": {},
   "outputs": [
    {
     "name": "stdout",
     "output_type": "stream",
     "text": [
      "[102, 7, 12, 17, 22, 27, 32, 37, 42, 20002]\n"
     ]
    }
   ],
   "source": [
    "#  update value in a list\n",
    "\n",
    "a[9] = 20002\n",
    "print(a)"
   ]
  },
  {
   "cell_type": "code",
   "execution_count": null,
   "metadata": {},
   "outputs": [],
   "source": [
    "# Remove all items: clear()\n",
    "# Remove an item by index and get its value: pop()\n",
    "# Remove an item by value: remove()\n",
    "# Remove items by index or slice: del"
   ]
  },
  {
   "cell_type": "code",
   "execution_count": 28,
   "metadata": {},
   "outputs": [
    {
     "name": "stdout",
     "output_type": "stream",
     "text": [
      "[]\n"
     ]
    }
   ],
   "source": [
    "#  clear\n",
    "\n",
    "list_var = [1, 2, 3, 1]\n",
    "list_var.clear()\n",
    "print(list_var)"
   ]
  },
  {
   "cell_type": "code",
   "execution_count": 27,
   "metadata": {},
   "outputs": [
    {
     "name": "stdout",
     "output_type": "stream",
     "text": [
      "[2, 3, 1]\n",
      "[2, 3]\n"
     ]
    }
   ],
   "source": [
    "#  Remove value from a list\n",
    "\n",
    "list_var = [1, 2, 3, 1]\n",
    "list_var.remove(1) # [2, 3, 1]\n",
    "print(list_var)\n",
    "\n",
    "list_var.remove(1) # [2, 3, 1]\n",
    "print(list_var)\n"
   ]
  },
  {
   "cell_type": "code",
   "execution_count": 58,
   "metadata": {},
   "outputs": [
    {
     "name": "stdout",
     "output_type": "stream",
     "text": [
      "[1, 2, 3, 1]\n",
      "3\n",
      "[1, 2, 1]\n"
     ]
    }
   ],
   "source": [
    "# pop \n",
    "list_var = [1, 2, 3, 1]\n",
    "\n",
    "print(list_var)\n",
    "\n",
    "popped_val = list_var.pop(2)\n",
    "\n",
    "print(popped_val)\n",
    "\n",
    "print(list_var)"
   ]
  },
  {
   "cell_type": "code",
   "execution_count": 31,
   "metadata": {},
   "outputs": [
    {
     "name": "stdout",
     "output_type": "stream",
     "text": [
      "[2, 3, 1]\n"
     ]
    }
   ],
   "source": [
    "# del\n",
    "\n",
    "list_var = [1, 2, 3, 1]\n",
    "\n",
    "del list_var[0]\n",
    "print(list_var)\n"
   ]
  },
  {
   "cell_type": "code",
   "execution_count": 71,
   "metadata": {},
   "outputs": [
    {
     "name": "stdout",
     "output_type": "stream",
     "text": [
      "=========== Tuples =============\n",
      "t[1] =  program\n",
      "t[0:3] =  (5, 'program', (1+3j))\n"
     ]
    },
    {
     "ename": "TypeError",
     "evalue": "'tuple' object does not support item assignment",
     "output_type": "error",
     "traceback": [
      "\u001b[1;31m---------------------------------------------------------------------------\u001b[0m",
      "\u001b[1;31mTypeError\u001b[0m                                 Traceback (most recent call last)",
      "\u001b[1;32m<ipython-input-71-da46a67e0152>\u001b[0m in \u001b[0;36m<module>\u001b[1;34m\u001b[0m\n\u001b[0;32m     12\u001b[0m \u001b[1;31m# Tuples are immutable\u001b[0m\u001b[1;33m\u001b[0m\u001b[1;33m\u001b[0m\u001b[1;33m\u001b[0m\u001b[0m\n\u001b[0;32m     13\u001b[0m \u001b[1;31m# t[0] = 10\u001b[0m\u001b[1;33m\u001b[0m\u001b[1;33m\u001b[0m\u001b[1;33m\u001b[0m\u001b[0m\n\u001b[1;32m---> 14\u001b[1;33m \u001b[0mt\u001b[0m\u001b[1;33m[\u001b[0m\u001b[1;36m4\u001b[0m\u001b[1;33m]\u001b[0m \u001b[1;33m=\u001b[0m \u001b[1;36m10\u001b[0m\u001b[1;33m\u001b[0m\u001b[1;33m\u001b[0m\u001b[0m\n\u001b[0m\u001b[0;32m     15\u001b[0m \u001b[1;33m\u001b[0m\u001b[0m\n\u001b[0;32m     16\u001b[0m \u001b[1;31m# t = (5)\u001b[0m\u001b[1;33m\u001b[0m\u001b[1;33m\u001b[0m\u001b[1;33m\u001b[0m\u001b[0m\n",
      "\u001b[1;31mTypeError\u001b[0m: 'tuple' object does not support item assignment"
     ]
    }
   ],
   "source": [
    "print(\"=========== Tuples =============\")\n",
    "\n",
    "t = (5,'program', 1+3j)\n",
    "\n",
    "# t[1] = 'program'\n",
    "print(\"t[1] = \", t[1])\n",
    "\n",
    "# t[0:3] = (5, 'program', (1+3j))\n",
    "print(\"t[0:3] = \", t[0:3])\n",
    "\n",
    "# Generates error\n",
    "# Tuples are immutable\n",
    "# t[0] = 10\n",
    "# t[4] = 10\n",
    "\n",
    "# t = (5)\n",
    "# print(type(t))"
   ]
  },
  {
   "cell_type": "code",
   "execution_count": 11,
   "metadata": {},
   "outputs": [
    {
     "name": "stdout",
     "output_type": "stream",
     "text": [
      "=========== Sets =============\n",
      "a =  {1, 2, 3, 4, 5, 10}\n",
      "<class 'set'>\n",
      "a =  {1, 2, 3}\n",
      "<class 'dict'>\n",
      "1\n",
      "2\n",
      "3\n"
     ]
    }
   ],
   "source": [
    "print(\"=========== Sets =============\")\n",
    "\n",
    "a = {5,2,3,10,1,4}\n",
    "\n",
    "# printing set variable\n",
    "print(\"a = \", a)\n",
    "\n",
    "# data type of variable a\n",
    "print(type(a))\n",
    "\n",
    "a = {1,2,2,3,3,3}\n",
    "# printing set variable : Eliminates Duplicates\n",
    "print(\"a = \", a)\n",
    "\n",
    "d = {1:'value','key':2}\n",
    "print(type(d))\n",
    "\n",
    "for each in a:\n",
    "    print(each)"
   ]
  },
  {
   "cell_type": "code",
   "execution_count": 36,
   "metadata": {},
   "outputs": [
    {
     "name": "stdout",
     "output_type": "stream",
     "text": [
      "{1, 2, 3, 4}\n",
      "{1, 2, 3, 4, 5}\n"
     ]
    }
   ],
   "source": [
    "#  add element to a set\n",
    "\n",
    "set_var = {1, 2, 3, 4}\n",
    "\n",
    "print(set_var)\n",
    "\n",
    "set_var.add(5)\n",
    "\n",
    "print(set_var)"
   ]
  },
  {
   "cell_type": "code",
   "execution_count": 107,
   "metadata": {},
   "outputs": [
    {
     "name": "stdout",
     "output_type": "stream",
     "text": [
      "{'a', 3, 10, 'b', 'd', '67', 'agf', 'c'}\n",
      "Return Value is a\n",
      "A =  {3, 10, 'b', 'd', '67', 'agf', 'c'}\n",
      "Return Value is 3\n",
      "A =  {10, 'b', 'd', '67', 'agf', 'c'}\n"
     ]
    }
   ],
   "source": [
    "# pop\n",
    "# The pop() method removes a random item from the set.\n",
    "# and returns the element removed.\n",
    "# If the set is empty, TypeError exception is raised.\n",
    "\n",
    "A ={'b', 'c', 'd','a', 'agf', \"67\", 3, 10}\n",
    "print(A)\n",
    "\n",
    "print('Return Value is', A.pop())\n",
    "print('A = ', A)\n",
    "\n",
    "print('Return Value is', A.pop())\n",
    "print('A = ', A)"
   ]
  },
  {
   "cell_type": "code",
   "execution_count": 33,
   "metadata": {},
   "outputs": [
    {
     "name": "stdout",
     "output_type": "stream",
     "text": [
      "Vowels (before clear): {'a', 'u', 'o', 'e', 'i'}\n",
      "Vowels (after clear): set()\n"
     ]
    }
   ],
   "source": [
    "#  clear\n",
    "\n",
    "# set of vowels\n",
    "vowels = {'a', 'e', 'i', 'o', 'u'}\n",
    "print('Vowels (before clear):', vowels)\n",
    "\n",
    "# clearing vowels\n",
    "vowels.clear()\n",
    "print('Vowels (after clear):', vowels)"
   ]
  },
  {
   "cell_type": "code",
   "execution_count": 37,
   "metadata": {},
   "outputs": [
    {
     "name": "stdout",
     "output_type": "stream",
     "text": [
      "Updated language set: {'English', 'French'}\n"
     ]
    }
   ],
   "source": [
    "#  remove\n",
    "\n",
    "# language set\n",
    "language = {'English', 'French', 'German'}\n",
    "\n",
    "# removing 'German' from language\n",
    "language.remove('German')\n",
    "\n",
    "# Updated language set\n",
    "print('Updated language set:', language)"
   ]
  },
  {
   "cell_type": "code",
   "execution_count": 69,
   "metadata": {},
   "outputs": [
    {
     "name": "stdout",
     "output_type": "stream",
     "text": [
      "=========== Dictionary =============\n",
      "{'a': 'xoriant', 'b': 'training', 1: 20}\n",
      "{1: 'value', 'key': 2}\n",
      "d[1] =  value\n",
      "d['key'] =  2\n",
      "xoriant\n",
      "===================\n",
      "a  :  xoriant\n",
      "b  :  training\n",
      "1  :  20\n",
      "===================\n",
      "2\n",
      "1  :  {1: 'value', 'key': 2}\n",
      "2  :  {1: 'value', 'key': 2}\n"
     ]
    }
   ],
   "source": [
    "print(\"=========== Dictionary =============\")\n",
    "\n",
    "d_var = {'a': 'xoriant', 'b': 'training', 1: 20}\n",
    "print(d_var)\n",
    "\n",
    "d = {1:'value','key':2}\n",
    "print(d)\n",
    "\n",
    "print(\"d[1] = \", d[1]);\n",
    "\n",
    "print(\"d['key'] = \", d['key']);\n",
    "\n",
    "print(d_var['a'])\n",
    "\n",
    "print(\"===================\")\n",
    "for k,v in d_var.items():\n",
    "    print(k,\" : \",v)\n",
    "    \n",
    "print(\"===================\")\n",
    "# Generates error\n",
    "# print(\"d[2] = \", d[2]);\n",
    "\n",
    "d = {1:{1:'value','key':2}, 2:{1:'value','key':2}}\n",
    "\n",
    "print(d[1]['key'])\n",
    "\n",
    "for k,v in d.items():\n",
    "    print(k,\" : \",v)"
   ]
  },
  {
   "cell_type": "code",
   "execution_count": 43,
   "metadata": {},
   "outputs": [
    {
     "name": "stdout",
     "output_type": "stream",
     "text": [
      "{1: 'value', 'key': 2, '2': 'test'}\n"
     ]
    }
   ],
   "source": [
    "# add to a dictonary\n",
    "\n",
    "d = {1:'value','key':2}\n",
    "\n",
    "d['2'] = \"test\"\n",
    "\n",
    "print(d)"
   ]
  },
  {
   "cell_type": "code",
   "execution_count": 44,
   "metadata": {},
   "outputs": [
    {
     "name": "stdout",
     "output_type": "stream",
     "text": [
      "{1: 'value_new', 'key': 2, '2': 'test'}\n"
     ]
    }
   ],
   "source": [
    "# update\n",
    "\n",
    "d[1] = 'value_new'\n",
    "\n",
    "print(d)"
   ]
  },
  {
   "cell_type": "code",
   "execution_count": 45,
   "metadata": {},
   "outputs": [
    {
     "name": "stdout",
     "output_type": "stream",
     "text": [
      "{'key': 2, '2': 'test'}\n"
     ]
    }
   ],
   "source": [
    "#  remove\n",
    "\n",
    "d.pop(1)\n",
    "\n",
    "print(d)"
   ]
  },
  {
   "cell_type": "code",
   "execution_count": null,
   "metadata": {},
   "outputs": [],
   "source": [
    "# Iterating Through Keys Directly\n",
    "# Iterating Through .items()\n",
    "# Iterating Through .keys()\n",
    "# Iterating Through .values()"
   ]
  },
  {
   "cell_type": "code",
   "execution_count": 77,
   "metadata": {},
   "outputs": [
    {
     "name": "stdout",
     "output_type": "stream",
     "text": [
      "** Key **\n",
      "color\n",
      "** Value **\n",
      "blue\n",
      "** Key **\n",
      "fruit\n",
      "** Value **\n",
      "apple\n",
      "** Key **\n",
      "pet\n",
      "** Value **\n",
      "dog\n"
     ]
    }
   ],
   "source": [
    "# Iterating Through Keys Directly\n",
    "\n",
    "a_dict = {'color': 'blue', 'fruit': 'apple', 'pet': 'dog'}\n",
    "\n",
    "for key in a_dict:\n",
    "    print(\"** Key **\")\n",
    "    print(key)\n",
    "    print(\"** Value **\")\n",
    "    print(a_dict[key])"
   ]
  },
  {
   "cell_type": "code",
   "execution_count": 82,
   "metadata": {},
   "outputs": [
    {
     "name": "stdout",
     "output_type": "stream",
     "text": [
      "key   :  color\n",
      "value :  blue\n",
      "key   :  fruit\n",
      "value :  apple\n",
      "key   :  pet\n",
      "value :  dog\n"
     ]
    }
   ],
   "source": [
    "# Iterating Through .items()\n",
    "\n",
    "a_dict = {'color': 'blue', 'fruit': 'apple', 'pet': 'dog'}\n",
    "\n",
    "for k, v in a_dict.items():\n",
    "    print(\"key   : \", k)\n",
    "    print(\"value : \", v)"
   ]
  },
  {
   "cell_type": "code",
   "execution_count": 108,
   "metadata": {},
   "outputs": [
    {
     "name": "stdout",
     "output_type": "stream",
     "text": [
      "================================\n",
      "key-1   :  dict1\n",
      "value-1 :  {'foo': 1, 'bar': 2}\n",
      "================================\n",
      "**** Its a dict ****\n",
      "key-2   :  foo\n",
      "value-2 :  1\n",
      "key-2   :  bar\n",
      "value-2 :  2\n",
      "================================\n",
      "key-1   :  10\n",
      "value-1 :  training\n",
      "================================\n",
      "================================\n",
      "key-1   :  dict2\n",
      "value-1 :  {'baz': 3, 'quux': 4}\n",
      "================================\n",
      "**** Its a dict ****\n",
      "key-2   :  baz\n",
      "value-2 :  3\n",
      "key-2   :  quux\n",
      "value-2 :  4\n"
     ]
    }
   ],
   "source": [
    "d = {'dict1': {'foo': 1, 'bar': 2}, 10: \"training\", 'dict2': {'baz': 3, 'quux': 4}}\n",
    "\n",
    "for k1,v1 in d.items(): # the basic way\n",
    "    print(\"================================\")\n",
    "    print(\"key-1   : \", k1)\n",
    "    print(\"value-1 : \", v1)\n",
    "    print(\"================================\")\n",
    "    \n",
    "    if isinstance(v1, dict):     \n",
    "        print(\"**** Its a dict ****\")\n",
    "        for k2,v2 in v1.items():\n",
    "            print(\"key-2   : \", k2)\n",
    "            print(\"value-2 : \", v2)\n",
    "    "
   ]
  },
  {
   "cell_type": "code",
   "execution_count": 95,
   "metadata": {},
   "outputs": [],
   "source": [
    "# Use case\n",
    "\n",
    "# Client name and its actual name\n",
    "\n",
    "CLIENT_NAME=\n",
    "{\n",
    "    \"vodafone.training.com\": \"Name1\",\n",
    "    \"abc.training.com.\": \"Name2\"\n",
    "}"
   ]
  },
  {
   "cell_type": "code",
   "execution_count": 106,
   "metadata": {},
   "outputs": [
    {
     "name": "stdout",
     "output_type": "stream",
     "text": [
      "[10, 5, 7, 9]\n"
     ]
    }
   ],
   "source": [
    "\n",
    "list_var = [10, 5, 7, 9]\n",
    "\n",
    "def test_fun(list_var_1):\n",
    "    print(list_var_1)\n",
    "    list_var_1[3] = 100\n",
    "    \n",
    "test_fun(list_var)"
   ]
  },
  {
   "cell_type": "code",
   "execution_count": null,
   "metadata": {},
   "outputs": [],
   "source": []
  }
 ],
 "metadata": {
  "kernelspec": {
   "display_name": "Python 3",
   "language": "python",
   "name": "python3"
  },
  "language_info": {
   "codemirror_mode": {
    "name": "ipython",
    "version": 3
   },
   "file_extension": ".py",
   "mimetype": "text/x-python",
   "name": "python",
   "nbconvert_exporter": "python",
   "pygments_lexer": "ipython3",
   "version": "3.7.5"
  }
 },
 "nbformat": 4,
 "nbformat_minor": 4
}
