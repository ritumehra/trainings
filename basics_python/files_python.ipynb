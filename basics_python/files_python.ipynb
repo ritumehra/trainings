{
 "cells": [
  {
   "cell_type": "code",
   "execution_count": null,
   "metadata": {},
   "outputs": [],
   "source": [
    "# print(\"=========== Open a file =============\")\n",
    "#  Open a file\n",
    "\n",
    "f = open(\"test.txt\")    # open file in current directory/ equivalent to 'r'\n",
    "f.close()\n"
   ]
  },
  {
   "cell_type": "code",
   "execution_count": 2,
   "metadata": {},
   "outputs": [
    {
     "name": "stdout",
     "output_type": "stream",
     "text": [
      "Entered the filnally block ... to exit cleanly\n"
     ]
    }
   ],
   "source": [
    "try:\n",
    "#     write into a file\n",
    "    f = open(\"../test_new.txt\", 'w')  #relative path\n",
    "    f.write(\"**********6666666666**********\\n\")\n",
    "    f.close()\n",
    "    \n",
    "\n",
    "except Exception as e:\n",
    "    print(e)\n",
    "\n",
    "finally:\n",
    "    print(\"Entered the filnally block ... to exit cleanly\")\n"
   ]
  },
  {
   "cell_type": "code",
   "execution_count": 3,
   "metadata": {},
   "outputs": [
    {
     "name": "stdout",
     "output_type": "stream",
     "text": [
      "=========== Write into a file =============\n",
      "Enter Data::test\n",
      "True\n"
     ]
    }
   ],
   "source": [
    "# It is good practice to use the with keyword when dealing with file objects. \n",
    "# The advantage is that the file is properly closed after its suite finishes, \n",
    "# even if an exception is raised at some point. \n",
    "# Using with is also much shorter than writing equivalent try-finally blocks:\n",
    "\n",
    "print(\"=========== Write into a file =============\")\n",
    "# write into a file\n",
    "\n",
    "file_data = input(\"Enter Data::\")\n",
    "\n",
    "with open(\"test.txt\",'w') as f:\n",
    "    f.write(\"+++++++++++++++++++++\\n\")\n",
    "    f.write(\"This file\\n\")\n",
    "    f.write(\"contains three lines\\n\")\n",
    "    f.write(file_data)\n",
    "#     f.close()\n",
    "\n",
    "print(f.closed)\n",
    "\n",
    "with open(\"test_new.txt\",'w') as f:\n",
    "    f.write(\"my first file, This file contains three lines\")\n",
    "#     f.close()\n",
    "\n",
    "\n",
    "with open(\"test_new.txt\",'a') as f:\n",
    "    f.write(\"my first file, This file contains three lines\")\n",
    "#     f.close()"
   ]
  },
  {
   "cell_type": "code",
   "execution_count": 4,
   "metadata": {},
   "outputs": [
    {
     "name": "stdout",
     "output_type": "stream",
     "text": [
      "=========== Read from a file =============\n",
      " ============ Read the first 8 characters ============\n",
      "++++++++\n",
      " ============ Read next 4 characters ============\n",
      "++++\n",
      " ============ Read the rest till end of file ============\n",
      "+++++++++\n",
      "This file\n",
      "contains three lines\n",
      "test\n",
      " ============ Further reading returns empty sting ============\n",
      "\n",
      "Training\n"
     ]
    }
   ],
   "source": [
    "print(\"=========== Read from a file =============\")\n",
    "# read from a file\n",
    "\n",
    "f = open(\"test.txt\",'r')\n",
    "print(\" ============ Read the first 8 characters ============\")\n",
    "data = f.read(8)    # read the first 8 data\n",
    "print(data)\n",
    "\n",
    "print(\" ============ Read next 4 characters ============\")\n",
    "data = f.read(4)    # read the next 4 data\n",
    "print(data)\n",
    "\n",
    "print(\" ============ Read the rest till end of file ============\")\n",
    "data = f.read()     # read in the rest till end of file\n",
    "print(data)\n",
    "\n",
    "print(\" ============ Further reading returns empty sting ============\")\n",
    "data = f.read()  # further reading returns empty sting\n",
    "print(data)\n",
    "print(\"Training\")\n"
   ]
  },
  {
   "cell_type": "code",
   "execution_count": 7,
   "metadata": {},
   "outputs": [
    {
     "name": "stdout",
     "output_type": "stream",
     "text": [
      " ============== Read file line by line ============== \n",
      "+++++++++++++++++++++\n",
      "\n",
      "+++++++++++++++++++++\n",
      "\n",
      "This. file\n",
      "\n",
      "This. file\n",
      "\n",
      "contains three lines\n",
      "\n",
      "contains three lines\n",
      "\n",
      "test\n",
      "test\n",
      "\n",
      "=========== readlines() reads untill a new line character is found ============= \n"
     ]
    }
   ],
   "source": [
    "\n",
    "#  Read file line by line\n",
    "\n",
    "print(\" ============== Read file line by line ============== \")\n",
    "f = open(\"test.txt\",'r')\n",
    "for line in f:\n",
    "    print(line, end='\\n')\n",
    "    print(line)\n",
    "\n",
    "print(\"\\n=========== readlines() reads untill a new line character is found ============= \")\n"
   ]
  },
  {
   "cell_type": "code",
   "execution_count": null,
   "metadata": {},
   "outputs": [],
   "source": [
    "f = open(\"test.txt\",'r')\n",
    "print(f.readline())\n",
    "print(f.readline())\n",
    "print(f.readline())\n",
    "print(f.readline())\n"
   ]
  },
  {
   "cell_type": "code",
   "execution_count": null,
   "metadata": {},
   "outputs": [],
   "source": []
  }
 ],
 "metadata": {
  "kernelspec": {
   "display_name": "Python 3",
   "language": "python",
   "name": "python3"
  },
  "language_info": {
   "codemirror_mode": {
    "name": "ipython",
    "version": 3
   },
   "file_extension": ".py",
   "mimetype": "text/x-python",
   "name": "python",
   "nbconvert_exporter": "python",
   "pygments_lexer": "ipython3",
   "version": "3.7.5"
  }
 },
 "nbformat": 4,
 "nbformat_minor": 4
}
